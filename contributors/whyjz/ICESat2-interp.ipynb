{
 "cells": [
  {
   "cell_type": "markdown",
   "metadata": {},
   "source": [
    "A concept of interpolation (Integrated workflow)\n",
    "----"
   ]
  },
  {
   "cell_type": "markdown",
   "metadata": {},
   "source": [
    "1. Download Baker DEM file\n",
    "\n",
    "See contributors/friedrichknuth/download_reference_dem.ipynb for more details"
   ]
  },
  {
   "cell_type": "code",
   "execution_count": 1,
   "metadata": {},
   "outputs": [],
   "source": [
    "# # Comment this cell for downloading Baker DEM\n",
    "\n",
    "# %%capture\n",
    "# current_directory = !pwd\n",
    "# current_directory = current_directory[0]\n",
    "# %cd ~/\n",
    "# ! git clone https://github.com/friedrichknuth/driveanon.git\n",
    "# ! pip install ./driveanon\n",
    "# %cd {current_directory}\n",
    "# import driveanon\n",
    "# blob_id = '1-8Ca-9_HJL4S7CrX4x5hzH-nrjD4Thpq'\n",
    "# %mkdir ~/data\n",
    "# %cd ~/data\n",
    "# driveanon.save(blob_id)\n",
    "# %cd {current_directory}\n",
    "# ! gdalinfo ~/data/reference_dem_clip.tif"
   ]
  },
  {
   "cell_type": "markdown",
   "metadata": {},
   "source": [
    "2. Load the Baker DEM file as reference_dem class, get bounding box for downloading ICESat-2 data"
   ]
  },
  {
   "cell_type": "code",
   "execution_count": 2,
   "metadata": {},
   "outputs": [
    {
     "name": "stdout",
     "output_type": "stream",
     "text": [
      "[-121.87893182746436, 48.70258466806347, -121.79542720391288, 48.7704252035505]\n",
      "32610\n"
     ]
    }
   ],
   "source": [
    "import sys\n",
    "import os\n",
    "sys.path.insert(0, os.path.abspath('/home/jovyan/Assimilation/simlib'))\n",
    "from coregistration import reference_dem\n",
    "\n",
    "dem_path = '/home/jovyan/data/reference_dem_clip.tif'\n",
    "dem = reference_dem(dem_path)\n",
    "dem.calculate_bounding_box('4326')\n",
    "bbox = dem.bbox\n",
    "print(bbox)\n",
    "print(dem.epsg)\n",
    "\n",
    "# Baken DEM EPSG: 32610"
   ]
  },
  {
   "cell_type": "markdown",
   "metadata": {},
   "source": [
    "3. Download ICESat-2 data\n",
    "\n",
    "See contributors/icetianli/READ_ATL06.ipynb for more datil"
   ]
  },
  {
   "cell_type": "code",
   "execution_count": 3,
   "metadata": {},
   "outputs": [],
   "source": [
    "# # Comment this cell for downloading ICESat-2 data\n",
    "\n",
    "# from icepyx import icesat2data as ipd\n",
    "\n",
    "# # query datasets\n",
    "# short_name = 'ATL06'\n",
    "# date_range = ['2018-10-14','2020-04-04']\n",
    "# bbox = [-121.87893182746436, 48.70258466806347, -121.79542720391288, 48.7704252035505] #[lonmin,latmin,lonmax,latmax]\n",
    "\n",
    "# # Earthdata Login user name and associated email\n",
    "# earthdata_uid = 'jhsttshj'\n",
    "# email = 'wz278@cornell.edu'\n",
    "\n",
    "# region = ipd.Icesat2Data(short_name, bbox, date_range)\n",
    "# region.earthdata_login(earthdata_uid, email)\n",
    "# region.download_granules('/home/jovyan/data/ICESat-2_Baker')"
   ]
  },
  {
   "cell_type": "code",
   "execution_count": null,
   "metadata": {},
   "outputs": [],
   "source": []
  },
  {
   "cell_type": "markdown",
   "metadata": {},
   "source": [
    "4. Load ICESat-2 data\n",
    "\n",
    "See contributors/icetianli/READ_ATL06.ipynb for more datil"
   ]
  },
  {
   "cell_type": "code",
   "execution_count": 4,
   "metadata": {},
   "outputs": [
    {
     "name": "stdout",
     "output_type": "stream",
     "text": [
      "12K\t/home/jovyan/data/ICESat-2_Baker_Processed/processed_ATL06_20181019231110_03260102_003_01_gt1l.h5\n",
      "16K\t/home/jovyan/data/ICESat-2_Baker_Processed/processed_ATL06_20181019231110_03260102_003_01_gt1r.h5\n",
      "20K\t/home/jovyan/data/ICESat-2_Baker_Processed/processed_ATL06_20181019231110_03260102_003_01_gt2l.h5\n",
      "24K\t/home/jovyan/data/ICESat-2_Baker_Processed/processed_ATL06_20181019231110_03260102_003_01_gt2r.h5\n",
      "24K\t/home/jovyan/data/ICESat-2_Baker_Processed/processed_ATL06_20190129064202_04860206_003_01_gt3l.h5\n",
      "28K\t/home/jovyan/data/ICESat-2_Baker_Processed/processed_ATL06_20190129064202_04860206_003_01_gt3r.h5\n",
      "12K\t/home/jovyan/data/ICESat-2_Baker_Processed/processed_ATL06_20190430022142_04860306_003_01_gt1l.h5\n",
      "12K\t/home/jovyan/data/ICESat-2_Baker_Processed/processed_ATL06_20190430022142_04860306_003_01_gt1r.h5\n",
      "20K\t/home/jovyan/data/ICESat-2_Baker_Processed/processed_ATL06_20190430022142_04860306_003_01_gt2l.h5\n",
      "16K\t/home/jovyan/data/ICESat-2_Baker_Processed/processed_ATL06_20190430022142_04860306_003_01_gt2r.h5\n",
      "12K\t/home/jovyan/data/ICESat-2_Baker_Processed/processed_ATL06_20190430022142_04860306_003_01_gt3l.h5\n",
      "12K\t/home/jovyan/data/ICESat-2_Baker_Processed/processed_ATL06_20190430022142_04860306_003_01_gt3r.h5\n",
      "12K\t/home/jovyan/data/ICESat-2_Baker_Processed/processed_ATL06_20190729220121_04860406_003_01_gt1l.h5\n",
      "16K\t/home/jovyan/data/ICESat-2_Baker_Processed/processed_ATL06_20190729220121_04860406_003_01_gt2l.h5\n",
      "16K\t/home/jovyan/data/ICESat-2_Baker_Processed/processed_ATL06_20190729220121_04860406_003_01_gt2r.h5\n",
      "12K\t/home/jovyan/data/ICESat-2_Baker_Processed/processed_ATL06_20190729220121_04860406_003_01_gt3l.h5\n",
      "12K\t/home/jovyan/data/ICESat-2_Baker_Processed/processed_ATL06_20190729220121_04860406_003_01_gt3r.h5\n"
     ]
    }
   ],
   "source": [
    "import glob\n",
    "import dask.dataframe as dd\n",
    "import atl06lib\n",
    "\n",
    "# files = glob.glob('/home/jovyan/data/ICESat-2_Baker/*.h5')\n",
    "# outdir = '/home/jovyan/data/ICESat-2_Baker_Processed'\n",
    "# # print(files)\n",
    "\n",
    "# for f in files:\n",
    "#     atl06lib.read_atl06(f, dem.epsg, outdir, bbox)\n",
    "\n",
    "!du -hs /home/jovyan/data/ICESat-2_Baker_Processed/*.h5"
   ]
  },
  {
   "cell_type": "code",
   "execution_count": 5,
   "metadata": {},
   "outputs": [
    {
     "name": "stdout",
     "output_type": "stream",
     "text": [
      "Number of files: 17\n",
      "Number of points: 894\n"
     ]
    }
   ],
   "source": [
    "files = glob.glob('/home/jovyan/data/ICESat-2_Baker_Processed/*.h5')\n",
    "# files = glob.glob('/home/jovyan/data/ATL06_Processed/*.h5')\n",
    "# print(files)\n",
    "\n",
    "# Variables we want to plot\n",
    "vnames = ['x', 'y', 'h_li']\n",
    "\n",
    "# List with one dataframe per file\n",
    "dfs = [dd.from_array(atl06lib.read_h5(f, vnames), columns=vnames) for f in files]\n",
    "\n",
    "# Single parallel dataframe (larger than memory)\n",
    "df = dd.concat(dfs)\n",
    "\n",
    "print('Number of files:', len(files))\n",
    "print('Number of points:', len(df))\n",
    "#print(df.head())\n",
    "\n",
    "# dask dataframe convert to pandas dataframe\n",
    "ddf = df.compute()"
   ]
  },
  {
   "cell_type": "markdown",
   "metadata": {},
   "source": [
    "5. Plot\n",
    "\n",
    "(from Shean's tutorials and Tian's code)"
   ]
  },
  {
   "cell_type": "code",
   "execution_count": 6,
   "metadata": {},
   "outputs": [
    {
     "data": {
      "text/html": [
       "<div>\n",
       "<style scoped>\n",
       "    .dataframe tbody tr th:only-of-type {\n",
       "        vertical-align: middle;\n",
       "    }\n",
       "\n",
       "    .dataframe tbody tr th {\n",
       "        vertical-align: top;\n",
       "    }\n",
       "\n",
       "    .dataframe thead th {\n",
       "        text-align: right;\n",
       "    }\n",
       "</style>\n",
       "<table border=\"1\" class=\"dataframe\">\n",
       "  <thead>\n",
       "    <tr style=\"text-align: right;\">\n",
       "      <th></th>\n",
       "      <th>x</th>\n",
       "      <th>y</th>\n",
       "      <th>h_li</th>\n",
       "      <th>geometry</th>\n",
       "    </tr>\n",
       "  </thead>\n",
       "  <tbody>\n",
       "    <tr>\n",
       "      <th>0</th>\n",
       "      <td>585820.033780</td>\n",
       "      <td>5.402471e+06</td>\n",
       "      <td>2641.562988</td>\n",
       "      <td>POINT (585820.034 5402470.987)</td>\n",
       "    </tr>\n",
       "    <tr>\n",
       "      <th>1</th>\n",
       "      <td>585818.482160</td>\n",
       "      <td>5.402451e+06</td>\n",
       "      <td>2635.364014</td>\n",
       "      <td>POINT (585818.482 5402451.019)</td>\n",
       "    </tr>\n",
       "    <tr>\n",
       "      <th>2</th>\n",
       "      <td>585812.354739</td>\n",
       "      <td>5.402371e+06</td>\n",
       "      <td>2603.774902</td>\n",
       "      <td>POINT (585812.355 5402371.143)</td>\n",
       "    </tr>\n",
       "    <tr>\n",
       "      <th>3</th>\n",
       "      <td>585810.797554</td>\n",
       "      <td>5.402351e+06</td>\n",
       "      <td>2601.487793</td>\n",
       "      <td>POINT (585810.798 5402351.175)</td>\n",
       "    </tr>\n",
       "    <tr>\n",
       "      <th>4</th>\n",
       "      <td>585809.211173</td>\n",
       "      <td>5.402331e+06</td>\n",
       "      <td>2599.798340</td>\n",
       "      <td>POINT (585809.211 5402331.202)</td>\n",
       "    </tr>\n",
       "    <tr>\n",
       "      <th>...</th>\n",
       "      <td>...</td>\n",
       "      <td>...</td>\n",
       "      <td>...</td>\n",
       "      <td>...</td>\n",
       "    </tr>\n",
       "    <tr>\n",
       "      <th>3</th>\n",
       "      <td>588459.384185</td>\n",
       "      <td>5.395325e+06</td>\n",
       "      <td>1190.703979</td>\n",
       "      <td>POINT (588459.384 5395325.108)</td>\n",
       "    </tr>\n",
       "    <tr>\n",
       "      <th>4</th>\n",
       "      <td>588457.824303</td>\n",
       "      <td>5.395305e+06</td>\n",
       "      <td>1184.791992</td>\n",
       "      <td>POINT (588457.824 5395305.140)</td>\n",
       "    </tr>\n",
       "    <tr>\n",
       "      <th>5</th>\n",
       "      <td>588454.681982</td>\n",
       "      <td>5.395265e+06</td>\n",
       "      <td>1176.595703</td>\n",
       "      <td>POINT (588454.682 5395265.205)</td>\n",
       "    </tr>\n",
       "    <tr>\n",
       "      <th>6</th>\n",
       "      <td>588453.107356</td>\n",
       "      <td>5.395245e+06</td>\n",
       "      <td>1172.540527</td>\n",
       "      <td>POINT (588453.107 5395245.238)</td>\n",
       "    </tr>\n",
       "    <tr>\n",
       "      <th>7</th>\n",
       "      <td>588446.649630</td>\n",
       "      <td>5.395165e+06</td>\n",
       "      <td>1175.643066</td>\n",
       "      <td>POINT (588446.650 5395165.383)</td>\n",
       "    </tr>\n",
       "  </tbody>\n",
       "</table>\n",
       "<p>894 rows × 4 columns</p>\n",
       "</div>"
      ],
      "text/plain": [
       "                x             y         h_li                        geometry\n",
       "0   585820.033780  5.402471e+06  2641.562988  POINT (585820.034 5402470.987)\n",
       "1   585818.482160  5.402451e+06  2635.364014  POINT (585818.482 5402451.019)\n",
       "2   585812.354739  5.402371e+06  2603.774902  POINT (585812.355 5402371.143)\n",
       "3   585810.797554  5.402351e+06  2601.487793  POINT (585810.798 5402351.175)\n",
       "4   585809.211173  5.402331e+06  2599.798340  POINT (585809.211 5402331.202)\n",
       "..            ...           ...          ...                             ...\n",
       "3   588459.384185  5.395325e+06  1190.703979  POINT (588459.384 5395325.108)\n",
       "4   588457.824303  5.395305e+06  1184.791992  POINT (588457.824 5395305.140)\n",
       "5   588454.681982  5.395265e+06  1176.595703  POINT (588454.682 5395265.205)\n",
       "6   588453.107356  5.395245e+06  1172.540527  POINT (588453.107 5395245.238)\n",
       "7   588446.649630  5.395165e+06  1175.643066  POINT (588446.650 5395165.383)\n",
       "\n",
       "[894 rows x 4 columns]"
      ]
     },
     "execution_count": 6,
     "metadata": {},
     "output_type": "execute_result"
    }
   ],
   "source": [
    "import geopandas as gpd\n",
    "\n",
    "# ddf_gpd = gpd.GeoDataFrame(glas_df, geometry=gpd.points_from_xy(glas_df['lon'], glas_df['lat']), crs='EPSG:32610')\n",
    "ddf_gpd = gpd.GeoDataFrame(ddf, geometry=gpd.points_from_xy(ddf['x'], ddf['y']), crs='EPSG:32610')\n",
    "ddf_gpd"
   ]
  },
  {
   "cell_type": "code",
   "execution_count": 8,
   "metadata": {},
   "outputs": [
    {
     "data": {
      "text/plain": [
       "<matplotlib.axes._subplots.AxesSubplot at 0x7f61a44dbb90>"
      ]
     },
     "execution_count": 8,
     "metadata": {},
     "output_type": "execute_result"
    },
    {
     "data": {
      "image/png": "[encoded data removed]",
      "text/plain": [
       "<Figure size 432x288 with 1 Axes>"
      ]
     },
     "metadata": {
      "needs_background": "light"
     },
     "output_type": "display_data"
    }
   ],
   "source": [
    "import matplotlib.pyplot as plt\n",
    "# import rasterio\n",
    "# from rasterio.plot import show\n",
    "\n",
    "%matplotlib inline\n",
    "\n",
    "# plt.imshow(dem.dem)\n",
    "# plt.plot(ddf['x'], ddf['y'])\n",
    "\n",
    "fig,ax = plt.subplots()\n",
    "\n",
    "# ax.imshow(dem.dem,cmap='inferno',extent=[dem.x.min(),dem.x.max(),dem.y.min(),dem.y.max()])\n",
    "# ax.imshow(dem.dem)\n",
    "dem.show(ax=ax)\n",
    "# ax.plot(584000, 5398000, '.', markersize=25, markerfacecolor='r')\n",
    "\n",
    "# im = ax.imshow(dem,cmap='inferno',extent=[dem.x.min(),dem.x.max(),dem.y.min(),dem.y.max()])\n",
    "\n",
    "# dem.show()\n",
    "# fig,ax = plt.subplots()\n",
    "# im = ax.imshow(dem.dem,cmap='inferno')\n",
    "# ax = dem.show()\n",
    "ddf_gpd.plot(ax=ax)\n",
    "\n",
    "# ax.plot(ddf['x'], ddf['y'])\n",
    "# cm = plt.cm.get_cmap('RdYlBu_r')\n",
    "\n",
    "\n",
    "# sc = ax.scatter(ddf['x'], ddf['y'], c=ddf['h_li'], vmin=ddf['h_li'].min(), vmax=ddf['h_li'].max(), cmap=cm, s=10)\n",
    "# plt.colorbar(sc)\n"
   ]
  },
  {
   "cell_type": "code",
   "execution_count": null,
   "metadata": {},
   "outputs": [],
   "source": [
    "\n",
    "\n"
   ]
  },
  {
   "cell_type": "markdown",
   "metadata": {},
   "source": [
    "something here"
   ]
  },
  {
   "cell_type": "code",
   "execution_count": null,
   "metadata": {},
   "outputs": [],
   "source": []
  },
  {
   "cell_type": "code",
   "execution_count": 9,
   "metadata": {},
   "outputs": [
    {
     "ename": "NameError",
     "evalue": "name 'region' is not defined",
     "output_type": "error",
     "traceback": [
      "\u001b[0;31m---------------------------------------------------------------------------\u001b[0m",
      "\u001b[0;31mNameError\u001b[0m                                 Traceback (most recent call last)",
      "\u001b[0;32m<ipython-input-9-4910bc5be095>\u001b[0m in \u001b[0;36m<module>\u001b[0;34m\u001b[0m\n\u001b[0;32m----> 1\u001b[0;31m \u001b[0mregion\u001b[0m\u001b[0;34m.\u001b[0m\u001b[0mdownload_granules\u001b[0m\u001b[0;34m(\u001b[0m\u001b[0;34m'/home/jovyan/Workbench/ICESat-2_Baker'\u001b[0m\u001b[0;34m)\u001b[0m\u001b[0;34m\u001b[0m\u001b[0;34m\u001b[0m\u001b[0m\n\u001b[0m",
      "\u001b[0;31mNameError\u001b[0m: name 'region' is not defined"
     ]
    }
   ],
   "source": [
    "region.download_granules('/home/jovyan/Workbench/ICESat-2_Baker')\n"
   ]
  },
  {
   "cell_type": "code",
   "execution_count": null,
   "metadata": {},
   "outputs": [],
   "source": [
    "# !ls ~/Workbench/ICESat-2_Baker\n",
    "\n",
    "# Get list of files to plot\n",
    "files = glob.glob('/home/jovyan/Workbench/ICESat-2_Baker/*.h5')\n",
    "# print(files)\n",
    "\n",
    "# Variables we want to plot\n",
    "vnames = ['x', 'y', 'h_li']\n",
    "\n",
    "# List with one dataframe per file\n",
    "dfs = [dd.from_array(atl06_lib.read_h5(f, vnames), columns=vnames) for f in files]\n",
    "\n",
    "# Single parallel dataframe (larger than memory)\n",
    "df = dd.concat(dfs)\n",
    "\n",
    "print('Number of files:', len(files))\n",
    "print('Number of points:', len(df))\n",
    "#print(df.head())\n",
    "\n",
    "# dask dataframe convert to pandas dataframe\n",
    "ddf = df.compute()"
   ]
  },
  {
   "cell_type": "code",
   "execution_count": null,
   "metadata": {},
   "outputs": [],
   "source": [
    "plt.imshow(a)"
   ]
  },
  {
   "cell_type": "code",
   "execution_count": null,
   "metadata": {},
   "outputs": [],
   "source": []
  }
 ],
 "metadata": {
  "kernelspec": {
   "display_name": "Python 3",
   "language": "python",
   "name": "python3"
  },
  "language_info": {
   "codemirror_mode": {
    "name": "ipython",
    "version": 3
   },
   "file_extension": ".py",
   "mimetype": "text/x-python",
   "name": "python",
   "nbconvert_exporter": "python",
   "pygments_lexer": "ipython3",
   "version": "3.7.6"
  }
 },
 "nbformat": 4,
 "nbformat_minor": 4
}
